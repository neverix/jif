{
 "cells": [
  {
   "cell_type": "code",
   "execution_count": null,
   "metadata": {},
   "outputs": [],
   "source": [
    "%env JAX_PLATFORMS=cpu\n",
    "import jax\n",
    "import jax.numpy as jnp"
   ]
  },
  {
   "cell_type": "code",
   "execution_count": null,
   "metadata": {},
   "outputs": [],
   "source": [
    "n_classes = 10\n",
    "seq_len = 4\n",
    "batch = 32\n",
    "data = jax.random.randint(jax.random.PRNGKey(0), (batch, seq_len), 0, n_classes)\n",
    "# https://github.com/neverix/Score-Entropy-Discrete-Diffusion/blob/f7221e3b835045f75444c7429955aa420111cc7d/noise_lib.py#L56\n",
    "noise_eps = 1e-4\n",
    "def noise_schedule(t):\n",
    "    rate_noise = (1 - noise_eps) / (1 - (1 - noise_eps) * t)\n",
    "    total_noise = -jnp.log1p(-(1 - noise_eps) * t)\n",
    "    return rate_noise, total_noise\n",
    "\n",
    "# https://github.com/neverix/Score-Entropy-Discrete-Diffusion/blob/f7221e3b835045f75444c7429955aa420111cc7d/graph_lib.py#L228C1-L232C22\n",
    "def sample_transition(key, i, sigma):\n",
    "    move_chance = 1 - jnp.exp(-sigma)\n",
    "    move_indices = jax.random.bernoulli(key, move_chance, i.shape)\n",
    "    i_pert = jnp.where(move_indices, n_classes, i)\n",
    "    return i_pert\n",
    "\n",
    "key = jax.random.PRNGKey(0)\n",
    "noise_key, transition_key = jax.random.split(key)\n",
    "sigma = jax.random.uniform(noise_key, (batch, 1))\n",
    "rate_noise, total_noise = noise_schedule(sigma)\n",
    "data_perturbed = sample_transition(transition_key, data, sigma)\n",
    "data_perturbed"
   ]
  },
  {
   "cell_type": "code",
   "execution_count": null,
   "metadata": {},
   "outputs": [],
   "source": []
  }
 ],
 "metadata": {
  "kernelspec": {
   "display_name": ".venv",
   "language": "python",
   "name": "python3"
  },
  "language_info": {
   "codemirror_mode": {
    "name": "ipython",
    "version": 3
   },
   "file_extension": ".py",
   "mimetype": "text/x-python",
   "name": "python",
   "nbconvert_exporter": "python",
   "pygments_lexer": "ipython3",
   "version": "3.10.12"
  }
 },
 "nbformat": 4,
 "nbformat_minor": 2
}
