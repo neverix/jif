{
 "cells": [
  {
   "cell_type": "code",
   "execution_count": null,
   "metadata": {},
   "outputs": [],
   "source": [
    "%env JAX_PLATFORMS=cpu\n",
    "import jax\n",
    "import jax.numpy as jnp"
   ]
  },
  {
   "cell_type": "code",
   "execution_count": null,
   "metadata": {},
   "outputs": [],
   "source": [
    "n_classes = 10\n",
    "seq_len = 16\n",
    "batch = 32\n",
    "data = jax.random.randint(jax.random.PRNGKey(0), (batch, seq_len), 0, n_classes)\n",
    "# https://github.com/neverix/Score-Entropy-Discrete-Diffusion/blob/f7221e3b835045f75444c7429955aa420111cc7d/noise_lib.py#L56\n",
    "noise_eps = 1e-4\n",
    "def noise_schedule(t):\n",
    "    total_noise = -jnp.log1p(-(1 - noise_eps) * t)\n",
    "    rate_noise = (1 - noise_eps) / (1 - (1 - noise_eps) * t)\n",
    "    return total_noise, rate_noise\n",
    "\n",
    "# https://github.com/neverix/Score-Entropy-Discrete-Diffusion/blob/f7221e3b835045f75444c7429955aa420111cc7d/graph_lib.py#L228C1-L232C22\n",
    "def sample_transition(key, i, sigma):\n",
    "    move_chance = 1 - jnp.exp(-sigma)\n",
    "    move_indices = jax.random.bernoulli(key, move_chance, i.shape)\n",
    "    i_pert = jnp.where(move_indices, n_classes, i)\n",
    "    return i_pert\n",
    "\n",
    "# https://github.com/neverix/Score-Entropy-Discrete-Diffusion/blob/f7221e3b835045f75444c7429955aa420111cc7d/graph_lib.py#L244\n",
    "def score_entropy(score, sigma, x, x0):\n",
    "    rel_ind = x == n_classes\n",
    "    esigm1 = jnp.where(\n",
    "        sigma < 0.5,\n",
    "        jnp.expm1(sigma),\n",
    "        jnp.exp(sigma) - 1\n",
    "    )\n",
    "\n",
    "    ratio = 1 / jnp.repeat(esigm1, x.shape[-1], -1)[rel_ind]\n",
    "    other_ind = x0[rel_ind]\n",
    "\n",
    "    # negative_term\n",
    "    neg_term = ratio * jnp.take_along_axis(score[rel_ind], other_ind[..., None], -1).squeeze(-1)\n",
    "\n",
    "    # positive term\n",
    "    pos_term = jnp.exp(score[rel_ind][..., :-1]).sum(axis=-1)\n",
    "\n",
    "    # constant term\n",
    "    const = ratio * (jnp.log(ratio) - 1)\n",
    "\n",
    "    entropy = jnp.zeros(x.shape, score.dtype).at[rel_ind].add(pos_term - neg_term + const)\n",
    "    return entropy\n"
   ]
  },
  {
   "cell_type": "code",
   "execution_count": null,
   "metadata": {},
   "outputs": [],
   "source": [
    "import math\n",
    "\n",
    "\n",
    "# https://github.com/neverix/Score-Entropy-Discrete-Diffusion/blob/f7221e3b835045f75444c7429955aa420111cc7d/model/transformer.py#L80\n",
    "def timestep_embedding(t, dim, max_period=10000):\n",
    "    \"\"\"\n",
    "    Create sinusoidal timestep embeddings.\n",
    "    :param t: a 1-D Tensor of N indices, one per batch element.\n",
    "                        These may be fractional.\n",
    "    :param dim: the dimension of the output.\n",
    "    :param max_period: controls the minimum frequency of the embeddings.\n",
    "    :return: an (N, D) Tensor of positional embeddings.\n",
    "    \"\"\"\n",
    "    # https://github.com/openai/glide-text2im/blob/main/glide_text2im/nn.py\n",
    "    half = dim // 2\n",
    "    freqs = jnp.exp(\n",
    "        -math.log(max_period) * jnp.arange(0, half, dtype=jnp.float32) / half\n",
    "    )\n",
    "    args = t[..., None].astype(jnp.float32) * freqs[None]\n",
    "    embedding = jnp.concatenate([jnp.cos(args), jnp.sin(args)], axis=-1)\n",
    "    if dim % 2:\n",
    "        embedding = jnp.cat([embedding, jnp.zeros_like(embedding[:, :1])], dim=-1)\n",
    "    return embedding\n",
    "\n",
    "from matplotlib import pyplot as plt\n",
    "plt.imshow(timestep_embedding(jnp.linspace(0, 10, 8), 8))\n",
    "plt.show()"
   ]
  },
  {
   "cell_type": "code",
   "execution_count": null,
   "metadata": {},
   "outputs": [],
   "source": [
    "from tqdm import trange\n",
    "key_params = jax.random.key(3)\n",
    "key_w1, key_w2, key_w3 = jax.random.split(key_params, 3)\n",
    "d = 100\n",
    "w1, w2, w3 = jax.random.normal(key_w1, (n_classes, d)), jax.random.normal(key_w2, (n_classes, d)), jax.random.normal(key_w3, (d, n_classes))\n",
    "\n",
    "for i in trange(100):\n",
    "    key = jax.random.PRNGKey(i)\n",
    "    noise_key, transition_key = jax.random.split(key)\n",
    "    t = jax.random.uniform(noise_key, (batch, 1))\n",
    "    total_noise, rate_noise = noise_schedule(t)\n",
    "    data_perturbed = sample_transition(transition_key, data, total_noise)\n",
    "\n",
    "    x = jax.nn.one_hot(data_perturbed, n_classes + 1) * 2 - 1\n",
    "\n",
    "    logits = jax.random.gumbel(key, (batch, seq_len, n_classes))\n",
    "    loss = (score_entropy(logits, total_noise, data_perturbed, data) * rate_noise).sum(1)"
   ]
  }
 ],
 "metadata": {
  "kernelspec": {
   "display_name": ".venv",
   "language": "python",
   "name": "python3"
  },
  "language_info": {
   "codemirror_mode": {
    "name": "ipython",
    "version": 3
   },
   "file_extension": ".py",
   "mimetype": "text/x-python",
   "name": "python",
   "nbconvert_exporter": "python",
   "pygments_lexer": "ipython3",
   "version": "3.10.12"
  }
 },
 "nbformat": 4,
 "nbformat_minor": 2
}
