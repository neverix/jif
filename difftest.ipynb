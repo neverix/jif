{
 "cells": [
  {
   "cell_type": "code",
   "execution_count": null,
   "metadata": {},
   "outputs": [],
   "source": [
    "%env JAX_PLATFORMS=cpu\n",
    "import jax\n",
    "import jax.numpy as jnp"
   ]
  },
  {
   "cell_type": "code",
   "execution_count": null,
   "metadata": {},
   "outputs": [],
   "source": [
    "n_classes = 10\n",
    "seq_len = 4\n",
    "batch = 32\n",
    "data = jax.random.randint(jax.random.PRNGKey(0), (batch, seq_len), 0, n_classes)\n",
    "# https://github.com/neverix/Score-Entropy-Discrete-Diffusion/blob/f7221e3b835045f75444c7429955aa420111cc7d/noise_lib.py#L56\n",
    "noise_eps = 1e-4\n",
    "def noise_schedule(t):\n",
    "    rate_noise = (1 - noise_eps) / (1 - (1 - noise_eps) * t)\n",
    "    total_noise = -jnp.log1p(-(1 - noise_eps) * t)\n",
    "    return rate_noise, total_noise\n",
    "\n",
    "def noise(data):\n",
    "    pass\n",
    "\n",
    "from matplotlib import pyplot as plt\n",
    "t = jnp.linspace(0, 1, 100)\n",
    "rate_noise, total_noise = noise_schedule(t)\n",
    "plt.plot(t, rate_noise / rate_noise.max() * total_noise.max())\n",
    "plt.plot(t, total_noise)"
   ]
  },
  {
   "cell_type": "code",
   "execution_count": null,
   "metadata": {},
   "outputs": [],
   "source": []
  }
 ],
 "metadata": {
  "kernelspec": {
   "display_name": ".venv",
   "language": "python",
   "name": "python3"
  },
  "language_info": {
   "codemirror_mode": {
    "name": "ipython",
    "version": 3
   },
   "file_extension": ".py",
   "mimetype": "text/x-python",
   "name": "python",
   "nbconvert_exporter": "python",
   "pygments_lexer": "ipython3",
   "version": "3.10.12"
  }
 },
 "nbformat": 4,
 "nbformat_minor": 2
}
