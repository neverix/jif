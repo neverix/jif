{
 "cells": [
  {
   "cell_type": "code",
   "execution_count": null,
   "metadata": {},
   "outputs": [],
   "source": [
    "%env JAX_PLATFORMS=cpu\n",
    "%load_ext autoreload\n",
    "%autoreload 2\n",
    "import jax\n",
    "import jax.numpy as jnp"
   ]
  },
  {
   "cell_type": "code",
   "execution_count": null,
   "metadata": {},
   "outputs": [],
   "source": [
    "from src.jif.diffusion import AbsorbingDiffusion\n",
    "n_classes = 8\n",
    "seq_len = 4\n",
    "batch = 6\n",
    "diffusion = AbsorbingDiffusion(n_classes, 1e-7)\n",
    "data = jax.random.randint(jax.random.PRNGKey(0), (batch, seq_len), 0, n_classes)\n",
    "\n",
    "\n",
    "from matplotlib import pyplot as plt\n",
    "t = jnp.arange(0, 1, 0.01)\n",
    "plt.plot(t, diffusion.noise_schedule(t)[0])\n",
    "plt.plot(t, 1 - jnp.exp(-diffusion.noise_schedule(t)[0]))\n",
    "plt.show()"
   ]
  },
  {
   "cell_type": "code",
   "execution_count": null,
   "metadata": {},
   "outputs": [],
   "source": [
    "import math\n",
    "\n",
    "\n",
    "# https://github.com/neverix/Score-Entropy-Discrete-Diffusion/blob/f7221e3b835045f75444c7429955aa420111cc7d/model/transformer.py#L80\n",
    "def timestep_embedding(t, dim, max_period=10000):\n",
    "    # https://github.com/openai/glide-text2im/blob/main/glide_text2im/nn.py\n",
    "    half = dim // 2\n",
    "    freqs = jnp.exp(\n",
    "        -math.log(max_period) * jnp.arange(0, half, dtype=jnp.float32) / half\n",
    "    )\n",
    "    args = t[..., None].astype(jnp.float32) * freqs[None]\n",
    "    embedding = jnp.concatenate([jnp.cos(args), jnp.sin(args)], axis=-1)\n",
    "    if dim % 2:\n",
    "        embedding = jnp.cat([embedding, jnp.zeros_like(embedding[:, :1])], dim=-1)\n",
    "    return embedding\n"
   ]
  },
  {
   "cell_type": "code",
   "execution_count": null,
   "metadata": {},
   "outputs": [],
   "source": [
    "from functools import partial\n",
    "import optax\n",
    "from tqdm import trange\n",
    "key_params = jax.random.key(3)\n",
    "key_w1, key_w2, key_w3, key_b1, key_b2, key_b3 = jax.random.split(key_params, 6)\n",
    "n_time = 128\n",
    "in_dim = (n_classes + 1) * seq_len + n_time\n",
    "d = 1024\n",
    "out_dim = (n_classes + 1) * seq_len\n",
    "scale_in = math.sqrt(in_dim)\n",
    "scale_out = math.sqrt(out_dim)\n",
    "w1, w2, w3 = jax.random.normal(key_w1, (in_dim, d)) / scale_in, jax.random.normal(key_w2, (in_dim, d)) / scale_in, jax.random.normal(key_w3, (d, out_dim)) / scale_out\n",
    "b1, b2, b3 = jax.random.normal(key_b1, (d,)) * 0.1, jax.random.normal(key_b2, (d,)) * 0.1, jax.random.normal(key_b3, (out_dim,)) * 0.1\n",
    "params = w1, w2, w3, b1, b2, b3\n",
    "\n",
    "def run_net(params, data_perturbed, total_noise):\n",
    "    x = jnp.concatenate([jax.nn.one_hot(data_perturbed, n_classes + 1).reshape(*data_perturbed.shape[:-1], -1) * 2 - 1, timestep_embedding(total_noise[..., 0], n_time).reshape(*data_perturbed.shape[:-1], -1)], -1)\n",
    "    w1, w2, w3, b1, b2, b3 = params\n",
    "    # h = (x @ w1 + b1) * (x @ w2 + b2)\n",
    "    # h = jax.nn.relu(x @ w1 + b1)\n",
    "    h = jax.nn.relu(x @ w1 + b1) * (x @ w2 + b2)\n",
    "    logits = (h @ w3 + b3).reshape(*data_perturbed.shape, n_classes + 1)\n",
    "    return logits\n",
    "\n",
    "def get_loss(params, data, key):\n",
    "    loss = diffusion.get_loss(key, partial(run_net, params), data)\n",
    "    return loss.mean()\n",
    "\n",
    "@partial(jax.jit, donate_argnums=(0, 3))\n",
    "def update_step(params, data, key, opt_state):\n",
    "    loss, grad = jax.value_and_grad(get_loss)(params, data, key)\n",
    "    updates, opt_state = optimizer.update(grad, opt_state)\n",
    "    params = optax.apply_updates(params, updates)\n",
    "    return params, opt_state, loss\n",
    "\n",
    "loss_and_grad = jax.value_and_grad(get_loss)\n",
    "optimizer = optax.chain(optax.clip_by_global_norm(1.0), optax.adam(4e-4))\n",
    "ema_params = jax.tree.map(jnp.copy, params)\n",
    "opt_state = optimizer.init(params)\n",
    "losses = []\n",
    "train_chunk = 128\n",
    "for i in (bar := trange(8192)):\n",
    "    key = jax.random.PRNGKey(i)\n",
    "    # loss, grad = loss_and_grad(params, data.repeat(16, 0), key)\n",
    "    # updates, opt_state = optimizer.update(grad, opt_state, params)\n",
    "    # params = optax.apply_updates(params, updates)\n",
    "    params, opt_state, loss = update_step(params, data.repeat(128, 0), key, opt_state)\n",
    "    ema_params = jax.tree.map(lambda x, y: x * 0.99 + y * 0.01, ema_params, params)\n",
    "    bar.set_postfix(loss=loss)\n",
    "    losses.append(loss)"
   ]
  },
  {
   "cell_type": "code",
   "execution_count": null,
   "metadata": {},
   "outputs": [],
   "source": [
    "from matplotlib import pyplot as plt\n",
    "plt.plot(losses)\n",
    "plt.yscale(\"log\")\n",
    "plt.xscale(\"log\")"
   ]
  },
  {
   "cell_type": "code",
   "execution_count": null,
   "metadata": {},
   "outputs": [],
   "source": [
    "import random\n",
    "closenesses = jax.vmap(lambda key: (diffusion.sample(lambda x, t: run_net(ema_params, x, t), key, 256, (seq_len,)) == data))(jax.random.split(jax.random.key(0), 32))\n",
    "# p = closenesses.mean(2)\n",
    "# p = p / p.sum(-1, keepdims=True)\n",
    "# closenesses.min(2).max(1).mean(), p.mean(0)\n",
    "eq = 0\n",
    "corr = 0\n",
    "for sample in closenesses:\n",
    "    correct = sample.all(-1)\n",
    "    corr = corr + correct.any()\n",
    "    if correct.any():\n",
    "        eq = eq + correct\n",
    "corr / len(closenesses), eq / corr"
   ]
  },
  {
   "cell_type": "code",
   "execution_count": null,
   "metadata": {},
   "outputs": [],
   "source": [
    "import numpy as np\n",
    "key = jax.random.key(0)\n",
    "score_fn = partial(run_net, ema_params)\n",
    "noise_key, transition_key = jax.random.split(key, 2)\n",
    "x = data.repeat(128, 0)\n",
    "t = jax.random.uniform(noise_key, x.shape[:-1] + (1,))\n",
    "total_noise, rate_noise = diffusion.noise_schedule(t)\n",
    "data_perturbed = diffusion.sample_transition(transition_key, x, total_noise)\n",
    "logits = score_fn(data_perturbed, total_noise)\n",
    "# logits[..., -1]\n",
    "xs = []\n",
    "for i in range(len(t)):\n",
    "    for j, (l, u) in enumerate(zip(logits[i], data_perturbed[i] == n_classes)):\n",
    "        # if not u:\n",
    "            # continue\n",
    "        probs = diffusion.staggered_score(jnp.exp(l), rate_noise[i, 0]) * diffusion.transp_transition(x[i], rate_noise[i])[j]\n",
    "        l_last = (probs / (1e-10 + probs.sum()))[..., -1]\n",
    "        xs.append((float(t[i, 0]), float(l_last)))\n",
    "plt.scatter(*np.array(xs).T)\n",
    "plt.ylim(-200, 10)"
   ]
  },
  {
   "cell_type": "code",
   "execution_count": null,
   "metadata": {},
   "outputs": [],
   "source": []
  }
 ],
 "metadata": {
  "kernelspec": {
   "display_name": ".venv",
   "language": "python",
   "name": "python3"
  },
  "language_info": {
   "codemirror_mode": {
    "name": "ipython",
    "version": 3
   },
   "file_extension": ".py",
   "mimetype": "text/x-python",
   "name": "python",
   "nbconvert_exporter": "python",
   "pygments_lexer": "ipython3",
   "version": "3.10.12"
  }
 },
 "nbformat": 4,
 "nbformat_minor": 2
}
